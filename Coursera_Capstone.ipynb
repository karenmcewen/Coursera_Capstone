{
 "cells": [
  {
   "cell_type": "markdown",
   "metadata": {},
   "source": [
    "<img src = img/womenMSEngineering.PNG width = 100, align = left><h1 align=left><font size = 6>Karen McEwen</font></h1>"
   ]
  },
  {
   "cell_type": "markdown",
   "metadata": {},
   "source": [
    "# IBM/Coursera Data Science Certificate Capstone Project \n",
    "## Northeastern Ohio Work Spaces for Self-Employed/Entrepreneurs"
   ]
  },
  {
   "cell_type": "markdown",
   "metadata": {},
   "source": [
    "## Introduction - Business Problem"
   ]
  },
  {
   "cell_type": "markdown",
   "metadata": {},
   "source": [
    "According to the U.S. Bureau of Labor and Statistics (BLS) approximately 15 million people are self-employed in the United States. This includes workers from construction and building trades, to real estate agents, accountants, hairdressers and service workers, as well as consultants, computer programmers, and freelance data scientists!  According to the IRS, the actual number may be much higher - in 2016,  there were 25.5 million nonfarm sole proprietorships, based on Schedule C tax filings.  And the Pew Center reports that 3 in ten jobs in the U.S. are held by the self-employed and the people they hire.  \n",
    "\n",
    "So where do all of these self-employed people work? According to the Federal Reserve Banks Office of Advocacy, over 60% of small businesses with only one owner/employee are home-based, while only 23% of small businesses with at least one non-owner employee are.  Those who are self-employed can take advantage of tax breaks allowed under the IRS rules and work from a home office, whether that be a dedicated room, or a corner of the kitchen table. Those who are self-employed in various service industries, beauticians or dentists, may need to have special equipment and spaces that cannot be accommodated in the home. Electricians and plumbers and those in the building trades may require garage space, or may work out of their specially equipped trucks.  Tax preparers or accountants may need spaces to keep confidential information secure.  In this project, I am going to focus on those who are consultants, such as those in the tech fields, who basically need just a computer and an internet connection to do their work.  Most of these people work from home.   However, many people prefer to have other options, whether that be to get away from household distractions, to meet clients in a more professional atmosphere, or just to be around other similarly self-employed people. The problem is that the opportunities for entrepreneurs and self-employed persons may be limited depending on geographic location and financial considerations.\n",
    "\n",
    "A number of companies are beginning to address this growing segment of the population.  The drama surrounding the company WeWork during its attempt to become publicly traded in 2019, has brought this issues into the news recently.  As a self-employed potential entrepreneur, I have encountered first-hand the limitations of working space. While I am lucky now to have space in my home for a dedicated office, that has not always been the case. In addition, I sometimes miss the opportunities for interactions with colleagues and to be away from the temptations of non-work activities that are ever-present when working from home. However, in my geographic region, it can be difficult to find the right type of space where one can accomplish work. In theory, all that is required is a computer and an internet hookup. But not all places have reliable wi-fi, there may not be access to electrical outlets, and the cost of working and eating all day at a coffeeshop can be prohibitive over time. So there are coffeeshops, which will allow you to work there but may be noisy. Fortunately the region is particularly blessed by an outstanding public library system, which is part of every community. There are also a growing number of businesses which cater particularly to the computer IT professional and are branded as co-working spaces.\n",
    "\n",
    "The purpose of this project is to examine options for the types and locations of working spaces available to self-employed and entrepreneurs, particularly in the fields of technology, in the Northeastern Ohio region of the United States.\n"
   ]
  },
  {
   "cell_type": "markdown",
   "metadata": {},
   "source": [
    "## Location - Northeastern Ohio"
   ]
  },
  {
   "cell_type": "markdown",
   "metadata": {},
   "source": [
    "I will be looking at the area where I live, which is Northeastern Ohio in the United States of America. Specifically, I will look at what is called the Cleveland–Akron–Canton Combined Statistical Area (CSA) according to the U.S. Census Bureau.\n",
    "\n",
    "The Cleveland-Akron-Canton CSA is comprised of 9 counties, which include the major metropolitan centers of Cleveland, Akron, and Canton, as well as an additional 5 micropolitan areas in other counties. I will not be looking at the micropolitan areas, but only at the 9 counties of Greater Cleveland (Cuyahoga, Lake, Geauga, Medina, and Lorain), the Akron metropolitan area (Portage and Summit counties), and Canton–Massillon metropolitan area (Stark and Carroll counties).\n",
    "\n",
    "According to Wikipedia, as of 2017, the region was the 19th largest media market in the United States, and is home to over 4.5 million people. There are approximately 327 million people in the United States. Therefore, Northeastern Ohio comprises approximately 1.38% of the population of the United States.\n"
   ]
  },
  {
   "cell_type": "markdown",
   "metadata": {},
   "source": [
    "## Stakeholders"
   ]
  },
  {
   "cell_type": "markdown",
   "metadata": {},
   "source": [
    "There are two stakeholders here.\n",
    "1) The self-employed individual or entrepreneur. Where is the best space to work if you can't or don't want to work at home?\n",
    "2) The property owner or developer who may want to open up a co-working space. Where in the Northeast Ohio region would be a good location for such an endeavor?\n",
    "\n",
    "In November, 2017, Fresh Books entrepreneurial statistics in conjunction with Research Now, conducted an online survey of over 2700 individuals who work full time, either as employees, entrepreneurs, or self-employed individuals. From that, they estimated that, in 2017, of the approximately 15 million Americans are full-time self-employed, with that number expected to rise to 27 million in the 2020s. They estimate that approximately 20% of these are in the construction trades, 10% each in retail, real estate, and consulting.\n",
    "Therefore, there are approximately 40% of up to 27 million people who will need to find workspace for themselves. 10% of those people are consultants who are those considered here. That is about 1.1 million people who will need to find a place to do their work full-time. 1.38% of those will be in Northeastern Ohio, which is over 15,000 people.\n"
   ]
  },
  {
   "cell_type": "markdown",
   "metadata": {},
   "source": [
    "## Data"
   ]
  },
  {
   "cell_type": "markdown",
   "metadata": {},
   "source": [
    "The primary data to be used is Foursquare geographical data. In particular I will be looking at coffee shops, libraries, and dedicated co-working spaces.  See the next section for more information\n",
    "\n",
    "Other data I may use comes from the state of Ohio Library System, which lists every public library in the state of Ohio.  While the data is primarily about numbers of patrons and numbers of books, it also includes such things that a self-employed person seeking a place to work might need, such as wi-fi access and private and community meeting space.\n",
    "\n",
    "The Bureau of Labor and Statistics keeps track of how many workers are in the workforce, which includes those who are self-employed. \n",
    "\n",
    "The Council of Smaller Enterprises (COSE) is an organization in Northeastern Ohio that works to help entrepreneurs, self-employed persons, and small businesses in the area.  They may have some insight into opportunities that I have not considered in this early stage of developing this project.\n",
    "\n",
    "I requested access to the API for a website called Co-working, that compiles lists of co-working spaces and promotes them for a fee, but they have not gotten back to me.  If that data becomes available, it will also be included.\n"
   ]
  },
  {
   "cell_type": "markdown",
   "metadata": {},
   "source": [
    "## Foursquare Data - Work Space Options\n",
    "\n",
    "There are basically four workspace options available to the aspiring self-employed technical consultant who is unable or unwilling to work from home.  Of these, three can easily be gleaned from the Foursquare data:\n",
    "\n",
    "1) Coffee Shops \\\n",
    "2) Public Libraries \\\n",
    "3) Dedicated Co-Working Spaces \\\n",
    "4) Traditional Office Space"
   ]
  },
  {
   "cell_type": "markdown",
   "metadata": {},
   "source": [
    "I will not be looking at traditional office spaces, because in my experience, that is a prohibitively expensive option for most self-employed professionals.  Also, traditional office spaces are generally handled through private real estate or corporate entities that handle many different locations, and are not locatable using Foursquare software and publicly available information."
   ]
  },
  {
   "cell_type": "markdown",
   "metadata": {},
   "source": [
    "## Methodology"
   ]
  },
  {
   "cell_type": "markdown",
   "metadata": {},
   "source": [
    "## Results"
   ]
  },
  {
   "cell_type": "markdown",
   "metadata": {},
   "source": [
    "## Discussion"
   ]
  },
  {
   "cell_type": "markdown",
   "metadata": {},
   "source": [
    "## Conclusion"
   ]
  },
  {
   "cell_type": "markdown",
   "metadata": {},
   "source": [
    "## Notebook"
   ]
  },
  {
   "cell_type": "markdown",
   "metadata": {},
   "source": [
    "## Report"
   ]
  },
  {
   "cell_type": "markdown",
   "metadata": {},
   "source": [
    "## Presentation or Blogpost"
   ]
  },
  {
   "cell_type": "code",
   "execution_count": null,
   "metadata": {},
   "outputs": [],
   "source": []
  },
  {
   "cell_type": "code",
   "execution_count": null,
   "metadata": {},
   "outputs": [],
   "source": []
  },
  {
   "cell_type": "code",
   "execution_count": null,
   "metadata": {},
   "outputs": [],
   "source": []
  },
  {
   "cell_type": "code",
   "execution_count": 1,
   "metadata": {},
   "outputs": [],
   "source": [
    "#import necessary libraries\n",
    "import pandas as pd\n",
    "import numpy as np"
   ]
  },
  {
   "cell_type": "code",
   "execution_count": null,
   "metadata": {},
   "outputs": [],
   "source": []
  },
  {
   "cell_type": "code",
   "execution_count": null,
   "metadata": {},
   "outputs": [],
   "source": []
  },
  {
   "cell_type": "code",
   "execution_count": null,
   "metadata": {},
   "outputs": [],
   "source": []
  },
  {
   "cell_type": "code",
   "execution_count": null,
   "metadata": {},
   "outputs": [],
   "source": []
  },
  {
   "cell_type": "code",
   "execution_count": null,
   "metadata": {},
   "outputs": [],
   "source": []
  },
  {
   "cell_type": "code",
   "execution_count": 4,
   "metadata": {},
   "outputs": [
    {
     "name": "stdout",
     "output_type": "stream",
     "text": [
      "Hello Capstone Project Course!\n"
     ]
    }
   ],
   "source": [
    "print('Hello Capstone Project Course!')"
   ]
  },
  {
   "cell_type": "code",
   "execution_count": null,
   "metadata": {},
   "outputs": [],
   "source": []
  }
 ],
 "metadata": {
  "kernelspec": {
   "display_name": "Python",
   "language": "python",
   "name": "conda-env-python-py"
  },
  "language_info": {
   "codemirror_mode": {
    "name": "ipython",
    "version": 3
   },
   "file_extension": ".py",
   "mimetype": "text/x-python",
   "name": "python",
   "nbconvert_exporter": "python",
   "pygments_lexer": "ipython3",
   "version": "3.6.7"
  }
 },
 "nbformat": 4,
 "nbformat_minor": 4
}
